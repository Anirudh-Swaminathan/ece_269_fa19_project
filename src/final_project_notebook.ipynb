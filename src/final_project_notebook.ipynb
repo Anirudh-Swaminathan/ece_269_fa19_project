{
 "cells": [
  {
   "cell_type": "markdown",
   "metadata": {},
   "source": [
    "# ECE 269 - Linear Algebra - Fall 2019 - Final Project - EigenFaces"
   ]
  },
  {
   "cell_type": "markdown",
   "metadata": {},
   "source": [
    "## EigenFaces project worked on by:-\n",
    "## Name :- Anirudh Swaminathan\n",
    "## PID :- A53316083\n",
    "## Email ID :- aswamina@ucsd.edu"
   ]
  },
  {
   "cell_type": "markdown",
   "metadata": {},
   "source": [
    "#### Notebook created by Anirudh Swaminathan from ECE department majoring in Intelligent Systems, Robotics and Control for the course ECE269 Linear Algebra for Fall 2019"
   ]
  },
  {
   "cell_type": "code",
   "execution_count": null,
   "metadata": {},
   "outputs": [],
   "source": [
    "%matplotlib inline\n",
    "\n",
    "# for working with images\n",
    "import matplotlib.pyplot as plt\n",
    "import matplotlib.image as mpimg\n",
    "\n",
    "# randomness\n",
    "import random\n",
    "\n",
    "# matrices\n",
    "import numpy as np\n",
    "\n",
    "# eigen value computation\n",
    "from scipy.linalg import eigh\n",
    "\n",
    "# for rotating images\n",
    "from scipy import ndimage as ndi"
   ]
  },
  {
   "cell_type": "code",
   "execution_count": null,
   "metadata": {},
   "outputs": [],
   "source": [
    "# dataset directory specified here\n",
    "data_dir = \"../datasets/\""
   ]
  },
  {
   "cell_type": "code",
   "execution_count": null,
   "metadata": {},
   "outputs": [],
   "source": [
    "# data stuff here\n",
    "neutral_imgs = []\n",
    "smiling_imgs = []\n",
    "mean_img = None\n",
    "dataset = []\n",
    "image_size = None\n",
    "eigen_faces = None"
   ]
  },
  {
   "cell_type": "markdown",
   "metadata": {},
   "source": [
    "### Load the data"
   ]
  },
  {
   "cell_type": "code",
   "execution_count": null,
   "metadata": {},
   "outputs": [],
   "source": [
    "for i in range(200):\n",
    "    # Read the neutral images from the (i+1)a.jpg file\n",
    "    # Read the smiling images from the (i+1)b.jpg file\n",
    "    nimg = mpimg.imread(data_dir + str(i + 1) + \"a.jpg\")\n",
    "    simg = mpimg.imread(data_dir + str(i + 1) + \"b.jpg\")\n",
    "    neutral_imgs.append(nimg)\n",
    "    smiling_imgs.append(simg)\n",
    "dataset = neutral_imgs[:190]\n",
    "\n",
    "# Convert the dataset of 190 neutral images to a numpy array\n",
    "dataset = np.array(dataset)\n",
    "\n",
    "# note down the image size\n",
    "image_size = (dataset.shape[1], dataset.shape[2])\n",
    "dataset = dataset.reshape(dataset.shape[0], dataset.shape[1] * dataset.shape[2])\n",
    "# 31266 * 190 - dataset shape\n",
    "dataset = np.transpose(dataset)"
   ]
  },
  {
   "cell_type": "code",
   "execution_count": null,
   "metadata": {},
   "outputs": [],
   "source": [
    "# convert the dataset to float to avoid errors in processing later on\n",
    "dataset = dataset.astype(np.float64)"
   ]
  },
  {
   "cell_type": "code",
   "execution_count": null,
   "metadata": {},
   "outputs": [],
   "source": [
    "# convert the neutral and smiling images dataset to Numpy\n",
    "neutral_imgs = np.array(neutral_imgs)\n",
    "smiling_imgs = np.array(smiling_imgs)\n",
    "\n",
    "# convert these images to float to avoid errors in processing later on\n",
    "neutral_imgs = neutral_imgs.astype(np.float64)\n",
    "smiling_imgs = smiling_imgs.astype(np.float64)"
   ]
  },
  {
   "cell_type": "markdown",
   "metadata": {},
   "source": [
    "### Display 5 random neutral and smiling images to verify if the data loading was correct"
   ]
  },
  {
   "cell_type": "code",
   "execution_count": null,
   "metadata": {},
   "outputs": [],
   "source": [
    "fig, axes = plt.subplots(nrows=5, ncols=2, figsize=(8, 8), sharex=\"all\", sharey=\"all\")\n",
    "for i in range(5):\n",
    "    j = random.randint(0, 199)\n",
    "    n = neutral_imgs[j]\n",
    "    s = smiling_imgs[j]\n",
    "    \n",
    "    # display the neutral image\n",
    "    axes[i][0].imshow(n, cmap=\"gray\")\n",
    "    axes[i][0].axis('off')\n",
    "    axes[i][0].set_title(\"Neutral Face\")\n",
    "    \n",
    "    # display the smiling image\n",
    "    axes[i][1].imshow(s, cmap=\"gray\")\n",
    "    axes[i][1].axis('off')\n",
    "    axes[i][1].set_title(\"Smiling Face\")\n",
    "    \n",
    "plt.tight_layout()\n",
    "fig.canvas.draw()"
   ]
  },
  {
   "cell_type": "markdown",
   "metadata": {},
   "source": [
    "### Question a) - Computing the PCs using 1st 190 individual's neutral expressions and plotting the singular values of the data matrix"
   ]
  },
  {
   "cell_type": "markdown",
   "metadata": {},
   "source": [
    "#### Compute Mean Face"
   ]
  },
  {
   "cell_type": "code",
   "execution_count": null,
   "metadata": {},
   "outputs": [],
   "source": [
    "# calculate the mean face for the dataset\n",
    "num_imgs = dataset.shape[1]\n",
    "mean_img = np.matmul(dataset, np.ones((num_imgs, 1))) / num_imgs\n",
    "# 31266 * 1 - mean_img\n",
    "mean_img = mean_img\n",
    "print(mean_img.shape, mean_img.dtype, np.min(mean_img), np.max(mean_img))"
   ]
  },
  {
   "cell_type": "code",
   "execution_count": null,
   "metadata": {},
   "outputs": [],
   "source": [
    "# plot the mean face of the neutral expressions\n",
    "plt_mean_img = mean_img.reshape(image_size[0], image_size[1])\n",
    "fig, axes = plt.subplots(nrows=1, ncols=1, figsize=(7, 6))\n",
    "axes.imshow(plt_mean_img, cmap=\"gray\")\n",
    "axes.axis('off')\n",
    "axes.set_title(\"Mean Face of 190 Neutral Faces\")\n",
    "fig.canvas.draw()"
   ]
  },
  {
   "cell_type": "markdown",
   "metadata": {},
   "source": [
    "#### Compute the eigen values and the corresponding eigen faces"
   ]
  },
  {
   "cell_type": "code",
   "execution_count": null,
   "metadata": {},
   "outputs": [],
   "source": [
    "# 31266 * 180\n",
    "mean_offset = dataset - mean_img\n",
    "\n",
    "# 180*180\n",
    "mod_cov = np.matmul(np.transpose(mean_offset), mean_offset)\n",
    "\n",
    "# check if this is a symmetric matrix\n",
    "print(np.allclose(mod_cov, np.transpose(mod_cov)))"
   ]
  },
  {
   "cell_type": "code",
   "execution_count": null,
   "metadata": {},
   "outputs": [],
   "source": [
    "# compute the eigen values and the corresponding eigenvectors in ascending order\n",
    "# 190 eigen values\n",
    "# 190 * 190 eigen vectors\n",
    "# ith column - corresponding to the ith eigen vector\n",
    "eig_vals, mod_eig_vecs = eigh(mod_cov)\n",
    "\n",
    "# 31266 * 190 - eigen vectors of the original data\n",
    "eig_vecs = np.matmul(mean_offset, mod_eig_vecs)\n",
    "\n",
    "# normalize the eigen vectors now\n",
    "# 31266 * 190 normalized eigen vectors\n",
    "norm_cnst = np.sqrt(np.sum(np.square(eig_vecs), 0))\n",
    "eigen_faces = np.divide(eig_vecs, norm_cnst)"
   ]
  },
  {
   "cell_type": "code",
   "execution_count": null,
   "metadata": {},
   "outputs": [],
   "source": [
    "# flip both eigen values and eigen vectors to ensure the largest eigen vectors are at the front\n",
    "eig_vals = np.flip(eig_vals)\n",
    "eigen_faces = np.flip(eigen_faces, 1)"
   ]
  },
  {
   "cell_type": "markdown",
   "metadata": {},
   "source": [
    "#### Plot the singular values of the data matrix"
   ]
  },
  {
   "cell_type": "markdown",
   "metadata": {},
   "source": [
    "Since the matrix $A^TA$ is symmetric, it's singluar values are the square root of its eigen values, and they are real."
   ]
  },
  {
   "cell_type": "code",
   "execution_count": null,
   "metadata": {},
   "outputs": [],
   "source": [
    "# plot the singular values of the data matrix\n",
    "indices = [i for i in range(190)]\n",
    "fig, axes = plt.subplots(nrows=1, ncols=1, figsize=(7, 6))\n",
    "axes.plot(indices, np.sqrt(eig_vals))\n",
    "axes.set_xlabel(\"Indices\")\n",
    "axes.set_ylabel(\"Singular Values\")\n",
    "axes.set_xlim(-1, 200)\n",
    "axes.set_ylim(0,)\n",
    "axes.set_title(\"Singular Values of the Data Matrix\")\n",
    "fig.canvas.draw()"
   ]
  },
  {
   "cell_type": "code",
   "execution_count": null,
   "metadata": {},
   "outputs": [],
   "source": [
    "# plot the eigen values of the data matrix\n",
    "indices = [i for i in range(190)]\n",
    "fig, axes = plt.subplots(nrows=1, ncols=1, figsize=(7, 6))\n",
    "axes.plot(indices, eig_vals)\n",
    "axes.set_xlabel(\"Indices\")\n",
    "axes.set_ylabel(\"Eigen Values\")\n",
    "axes.set_xlim(-1, 200)\n",
    "axes.set_ylim(0, 1.75e9)\n",
    "axes.set_title(\"Eigen Values of the Data Matrix\")\n",
    "fig.canvas.draw()"
   ]
  },
  {
   "cell_type": "markdown",
   "metadata": {},
   "source": [
    "For choosing the eigen values, we take the largest eigen values as they indicate the maximum variance between the different features. We can choose the number of PCs as the one that gives >95% variance between the features."
   ]
  },
  {
   "cell_type": "code",
   "execution_count": null,
   "metadata": {},
   "outputs": [],
   "source": [
    "tot = np.sum(eig_vals)\n",
    "su = 0\n",
    "ans = -1\n",
    "for j in range(190):\n",
    "    su += eig_vals[j]\n",
    "    if su/tot>0.95:\n",
    "        ans = j+1\n",
    "        print(\"The largest {} eigen vectors encode >95% variability of the dataset\".format(ans))\n",
    "        break"
   ]
  },
  {
   "cell_type": "markdown",
   "metadata": {},
   "source": [
    "Hence, we can choose $96$ largest eigen values and their corresponding eigen vectors to represent greater than $95%$ variability of the given dataset of faces."
   ]
  },
  {
   "cell_type": "code",
   "execution_count": null,
   "metadata": {},
   "outputs": [],
   "source": [
    "# plot the top 5 eigen faces\n",
    "fig, axes = plt.subplots(nrows=5, ncols=1, figsize=(8, 8), sharex=\"all\", sharey=\"all\")\n",
    "for i in range(5):\n",
    "    img = eigen_faces[:, i]\n",
    "    plot_face = img.reshape(image_size[0], image_size[1])\n",
    "    \n",
    "    # display the neutral image\n",
    "    axes[i].imshow(plot_face, cmap=\"gray\")\n",
    "    axes[i].axis('off')\n",
    "    axes[i].set_title(\"Eigen Face: {}\".format(i+1))\n",
    "    \n",
    "plt.tight_layout()\n",
    "fig.canvas.draw()"
   ]
  },
  {
   "cell_type": "markdown",
   "metadata": {},
   "source": [
    "### Question b) - Reconstruction of a neutral individual's PCs using different number of PC's"
   ]
  },
  {
   "cell_type": "code",
   "execution_count": null,
   "metadata": {},
   "outputs": [],
   "source": [
    "def reconstruct_image(orig, pcs):\n",
    "    \"\"\"A function to reconstruct the original image with the given PCs\"\"\"\n",
    "    # perform mean subtraction\n",
    "    # 31566 * 1\n",
    "    #print(\"Original: {}, Mean Image: {}\".format(orig.shape, mean_img.shape))\n",
    "    mean_sub = orig - mean_img\n",
    "    #print(mean_sub.shape)\n",
    "    \n",
    "    # calculate the weights\n",
    "    # l * 31566 * 31566 * 1 = l * 1\n",
    "    #print(pcs.shape)\n",
    "    w = np.matmul(np.transpose(pcs), mean_sub)\n",
    "    #print(w.shape)\n",
    "    \n",
    "    # 31566 * l * l * 1 = 31566 * 1\n",
    "    recon = np.matmul(pcs, w) + mean_img\n",
    "    #print(recon.shape)\n",
    "    mse = np.mean(np.square(orig - recon))\n",
    "    return recon, mse"
   ]
  },
  {
   "cell_type": "code",
   "execution_count": null,
   "metadata": {},
   "outputs": [],
   "source": [
    "# random index to pick image from\n",
    "rand_ind = random.randint(0, 189)\n",
    "original_img = dataset[:, rand_ind]\n",
    "#print(original_img.shape)\n",
    "original_img = original_img[:, np.newaxis]\n",
    "#print(original_img.shape)"
   ]
  },
  {
   "cell_type": "code",
   "execution_count": null,
   "metadata": {},
   "outputs": [],
   "source": [
    "mses = []\n",
    "recs = []\n",
    "\n",
    "# Reconstruct the image for all the PCs\n",
    "for j in range(190):\n",
    "    #print(dataset.shape)\n",
    "    pcs = eigen_faces[:, :(j+1)]\n",
    "    #print(pcs.shape)\n",
    "    rec, mse = reconstruct_image(original_img, pcs)\n",
    "    recs.append(rec)\n",
    "    mses.append(mse)"
   ]
  },
  {
   "cell_type": "code",
   "execution_count": null,
   "metadata": {},
   "outputs": [],
   "source": [
    "print(len(mses), min(mses), max(mses))"
   ]
  },
  {
   "cell_type": "code",
   "execution_count": null,
   "metadata": {},
   "outputs": [],
   "source": [
    "print(mses)"
   ]
  },
  {
   "cell_type": "code",
   "execution_count": null,
   "metadata": {},
   "outputs": [],
   "source": [
    "# plot the singular values of the data matrix\n",
    "num_eigs = [i+1 for i in range(190)]\n",
    "fig, axes = plt.subplots(nrows=1, ncols=1, figsize=(7, 6))\n",
    "axes.plot(num_eigs, mses)\n",
    "axes.set_xlabel(\"Number of Largest Principal Components\")\n",
    "axes.set_ylabel(\"MSE of Reconstruction\")\n",
    "axes.set_xlim(-1, 200)\n",
    "axes.set_ylim(0, )\n",
    "#axes.set_title(\"Number of Principal Components vs Mean Squared Error of Reconstruction\")\n",
    "fig.canvas.draw()"
   ]
  },
  {
   "cell_type": "code",
   "execution_count": null,
   "metadata": {
    "scrolled": false
   },
   "outputs": [],
   "source": [
    "# Plot the reconstructed images for 5 different number of PCs\n",
    "num_pcs = [1, 50, 100, 150, 189, 190]\n",
    "fig, axes = plt.subplots(nrows=6, ncols=2, figsize=(8, 8), sharex=\"all\", sharey=\"all\")\n",
    "for i in range(len(num_pcs)):\n",
    "    r = recs[num_pcs[i] - 1]\n",
    "    print(r.shape, r.dtype)\n",
    "    r = r.reshape(image_size[0], image_size[1])\n",
    "    \n",
    "    # display the neutral image\n",
    "    axes[i][0].imshow(original_img.reshape(image_size[0], image_size[1]), cmap=\"gray\")\n",
    "    axes[i][0].axis('off')\n",
    "    axes[i][0].set_title(\"Original Face\")\n",
    "    \n",
    "    # display the smiling image\n",
    "    axes[i][1].imshow(r, cmap=\"gray\")\n",
    "    axes[i][1].axis('off')\n",
    "    axes[i][1].set_title(\"Reconstructed Face using top {} eigen faces\".format(num_pcs[i]))\n",
    "    \n",
    "plt.tight_layout()\n",
    "fig.canvas.draw()"
   ]
  },
  {
   "cell_type": "code",
   "execution_count": null,
   "metadata": {},
   "outputs": [],
   "source": [
    "r = recs[188]\n",
    "print(r.shape, r.dtype, np.min(r), np.max(r))\n",
    "print(original_img.shape, original_img.dtype, np.min(original_img), np.max(original_img))"
   ]
  },
  {
   "cell_type": "markdown",
   "metadata": {},
   "source": [
    "$$\\textbf{Qualitative Results}$$\n",
    "I tried reconstruction of a random neutral image using different number of principal components with the largest eigen values <br>\n",
    "I found that the reconstructed image was not close for just $1$ principal component. <br>\n",
    "For more principal components, I found that the reconstructed image starts resembling the original image. <br>\n",
    "$$\\textbf{Quantitave Results}$$\n",
    "As the number of principal components associated with the largest eigen values used to recreate the neutral image increases, the MSE for my model keeps on decreasing to $0$. This is to be expected as this neutral image was used in the computation of all the $190$ eigen faces, and hence, this neutral image can be spanned by all the $190$ principal components. <br>"
   ]
  },
  {
   "cell_type": "markdown",
   "metadata": {},
   "source": [
    "### Question c) - Reconstruction of a smiling individual's PCs using different number of PC's"
   ]
  },
  {
   "cell_type": "code",
   "execution_count": null,
   "metadata": {},
   "outputs": [],
   "source": [
    "# random index to pick image from\n",
    "#rand_ind = random.randint(0, 189)\n",
    "original_img = smiling_imgs[rand_ind, :, :]\n",
    "print(original_img.shape)\n",
    "original_img = original_img.reshape(image_size[0] * image_size[1], 1)\n",
    "print(original_img.shape, original_img.dtype, np.min(original_img), np.max(original_img))"
   ]
  },
  {
   "cell_type": "code",
   "execution_count": null,
   "metadata": {},
   "outputs": [],
   "source": [
    "sm_mses = []\n",
    "sm_recs = []\n",
    "\n",
    "# Reconstruct the image for all the PCs\n",
    "for j in range(190):\n",
    "    #print(dataset.shape)\n",
    "    pcs = eigen_faces[:, :(j+1)]\n",
    "    #print(pcs.shape)\n",
    "    rec, mse = reconstruct_image(original_img, pcs)\n",
    "    sm_recs.append(rec)\n",
    "    sm_mses.append(mse)"
   ]
  },
  {
   "cell_type": "code",
   "execution_count": null,
   "metadata": {},
   "outputs": [],
   "source": [
    "print(len(sm_mses), min(sm_mses), max(sm_mses))"
   ]
  },
  {
   "cell_type": "code",
   "execution_count": null,
   "metadata": {},
   "outputs": [],
   "source": [
    "print(sm_mses)"
   ]
  },
  {
   "cell_type": "code",
   "execution_count": null,
   "metadata": {},
   "outputs": [],
   "source": [
    "# plot the singular values of the data matrix\n",
    "num_eigs = [i+1 for i in range(190)]\n",
    "fig, axes = plt.subplots(nrows=1, ncols=1, figsize=(7, 6))\n",
    "axes.plot(num_eigs, sm_mses)\n",
    "axes.set_xlabel(\"Number of Largest Principal Components\")\n",
    "axes.set_ylabel(\"MSE of Reconstruction\")\n",
    "axes.set_xlim(-1, 200)\n",
    "axes.set_ylim(0, )\n",
    "#axes.set_title(\"Number of Principal Components vs Mean Squared Error of Reconstruction\")\n",
    "fig.canvas.draw()"
   ]
  },
  {
   "cell_type": "code",
   "execution_count": null,
   "metadata": {
    "scrolled": false
   },
   "outputs": [],
   "source": [
    "# Plot the reconstructed images for 5 different number of PCs\n",
    "num_pcs = [1, 50, 100, 150, 189, 190]\n",
    "fig, axes = plt.subplots(nrows=6, ncols=2, figsize=(8, 8), sharex=\"all\", sharey=\"all\")\n",
    "for i in range(len(num_pcs)):\n",
    "    r = sm_recs[num_pcs[i] - 1]\n",
    "    print(r.shape, r.dtype)\n",
    "    r = r.reshape(image_size[0], image_size[1])\n",
    "    \n",
    "    # display the neutral image\n",
    "    axes[i][0].imshow(original_img.reshape(image_size[0], image_size[1]), cmap=\"gray\")\n",
    "    axes[i][0].axis('off')\n",
    "    axes[i][0].set_title(\"Original Face\")\n",
    "    \n",
    "    # display the smiling image\n",
    "    axes[i][1].imshow(r, cmap=\"gray\")\n",
    "    axes[i][1].axis('off')\n",
    "    axes[i][1].set_title(\"Reconstructed Face using top {} eigen faces\".format(num_pcs[i]))\n",
    "    \n",
    "plt.tight_layout()\n",
    "fig.canvas.draw()"
   ]
  },
  {
   "cell_type": "code",
   "execution_count": null,
   "metadata": {},
   "outputs": [],
   "source": [
    "r = sm_recs[188]\n",
    "print(r.shape, r.dtype, np.min(r), np.max(r))\n",
    "print(original_img.shape, original_img.dtype, np.min(original_img), np.max(original_img))"
   ]
  },
  {
   "cell_type": "markdown",
   "metadata": {},
   "source": [
    "$$\\textbf{Qualitative Results}$$\n",
    "I tried reconstruction of a random neutral image using different number of principal components with the largest eigen values <br>\n",
    "I found that the reconstructed image was not close for just $1$ principal component. <br>\n",
    "For more principal components, I found that the reconstructed image starts resembling the original image. <br>\n",
    "$$\\textbf{Quantitave Results}$$\n",
    "As the number of principal components associated with the largest eigen values used to recreate the neutral image increases, the MSE for my model keeps on decreasing. This is to be expected, as the number of Pricipal components increases, they are able to approximately span the original image more and more. <br>\n",
    "$$\\textbf{Comparison with Neutral Image Reconstruction}$$\n",
    "This reconstruction is not as good as the neutral images reconstruction. This is because the smiling image was not a part of process of finding the principal components. Hence, with the given principal components, we cannot span the smiling images."
   ]
  },
  {
   "cell_type": "markdown",
   "metadata": {},
   "source": [
    "### Question d) Reconstruction of test set of neutral images from the Principal Components"
   ]
  },
  {
   "cell_type": "code",
   "execution_count": null,
   "metadata": {},
   "outputs": [],
   "source": [
    "# random index to pick image from\n",
    "rand_neut = random.randint(190, 199)\n",
    "original_img = neutral_imgs[rand_neut, :, :]\n",
    "print(original_img.shape)\n",
    "original_img = original_img.reshape(image_size[0] * image_size[1], 1)\n",
    "print(original_img.shape, original_img.dtype, np.min(original_img), np.max(original_img))"
   ]
  },
  {
   "cell_type": "code",
   "execution_count": null,
   "metadata": {},
   "outputs": [],
   "source": [
    "te_mses = []\n",
    "te_recs = []\n",
    "\n",
    "# Reconstruct the image for all the PCs\n",
    "for j in range(190):\n",
    "    #print(dataset.shape)\n",
    "    pcs = eigen_faces[:, :(j+1)]\n",
    "    #print(pcs.shape)\n",
    "    rec, mse = reconstruct_image(original_img, pcs)\n",
    "    te_recs.append(rec)\n",
    "    te_mses.append(mse)"
   ]
  },
  {
   "cell_type": "code",
   "execution_count": null,
   "metadata": {},
   "outputs": [],
   "source": [
    "print(len(te_mses), min(te_mses), max(te_mses))"
   ]
  },
  {
   "cell_type": "code",
   "execution_count": null,
   "metadata": {},
   "outputs": [],
   "source": [
    "print(te_mses)"
   ]
  },
  {
   "cell_type": "code",
   "execution_count": null,
   "metadata": {},
   "outputs": [],
   "source": [
    "# plot the singular values of the data matrix\n",
    "num_eigs = [i+1 for i in range(190)]\n",
    "fig, axes = plt.subplots(nrows=1, ncols=1, figsize=(7, 6))\n",
    "axes.plot(num_eigs, te_mses)\n",
    "axes.set_xlabel(\"Number of Largest Principal Components\")\n",
    "axes.set_ylabel(\"MSE of Reconstruction\")\n",
    "axes.set_xlim(-1, 200)\n",
    "axes.set_ylim(0,)\n",
    "#axes.set_title(\"Number of Principal Components vs Mean Squared Error of Reconstruction\")\n",
    "fig.canvas.draw()"
   ]
  },
  {
   "cell_type": "code",
   "execution_count": null,
   "metadata": {
    "scrolled": false
   },
   "outputs": [],
   "source": [
    "# Plot the reconstructed images for 5 different number of PCs\n",
    "num_pcs = [1, 50, 100, 150, 189, 190]\n",
    "fig, axes = plt.subplots(nrows=6, ncols=2, figsize=(8, 8), sharex=\"all\", sharey=\"all\")\n",
    "for i in range(len(num_pcs)):\n",
    "    r = te_recs[num_pcs[i] - 1]\n",
    "    print(r.shape, r.dtype)\n",
    "    r = r.reshape(image_size[0], image_size[1])\n",
    "    \n",
    "    # display the neutral image\n",
    "    axes[i][0].imshow(original_img.reshape(image_size[0], image_size[1]), cmap=\"gray\")\n",
    "    axes[i][0].axis('off')\n",
    "    axes[i][0].set_title(\"Original Face\")\n",
    "    \n",
    "    # display the smiling image\n",
    "    axes[i][1].imshow(r, cmap=\"gray\")\n",
    "    axes[i][1].axis('off')\n",
    "    axes[i][1].set_title(\"Reconstructed Face using top {} eigen faces\".format(num_pcs[i]))\n",
    "    \n",
    "plt.tight_layout()\n",
    "fig.canvas.draw()"
   ]
  },
  {
   "cell_type": "code",
   "execution_count": null,
   "metadata": {},
   "outputs": [],
   "source": [
    "r = sm_recs[188]\n",
    "print(r.shape, r.dtype, np.min(r), np.max(r))\n",
    "print(original_img.shape, original_img.dtype, np.min(original_img), np.max(original_img))"
   ]
  },
  {
   "cell_type": "markdown",
   "metadata": {},
   "source": [
    "$$\\textbf{Qualitative Results}$$\n",
    "I tried reconstruction of a random neutral image using different number of principal components with the largest eigen values <br>\n",
    "I found that the reconstructed image was not close for just $1$ principal component. <br>\n",
    "For more principal components, I found that the reconstructed image starts resembling the original image. <br>\n",
    "$$\\textbf{Quantitave Results}$$\n",
    "As the number of principal components associated with the largest eigen values used to recreate the neutral image increases, the MSE for my model keeps on decreasing. This is to be expected, as the number of Pricipal components increases, they are able to approximately span the original image more and more. <br>\n",
    "$$\\textbf{Comparison with Neutral Image Reconstruction}$$\n",
    "This reconstruction is not as good as the neutral images reconstruction. This is because this neutral image was not a part of process of finding the principal components. Hence, with the given principal components, we cannot span this image.\n",
    "$$\\textbf{Comparison with Smiling Image Reconstruction}$$\n",
    "This reconstruction is very similar to the one performed on smiling images, and the same argument applies. The fact that they do not contribute to finding the Principal Components leads to the fact that they cannot efficiently reconstruct the given image."
   ]
  },
  {
   "cell_type": "markdown",
   "metadata": {},
   "source": [
    "### Question e) Reconstruction of non-human image from the set of PCs"
   ]
  },
  {
   "cell_type": "code",
   "execution_count": null,
   "metadata": {},
   "outputs": [],
   "source": [
    "# read car\n",
    "car_pth = \"../datasets/car.jpg\"\n",
    "car_img = mpimg.imread(car_pth)\n",
    "car_img = car_img.astype(np.float64)\n",
    "original_img = car_img.reshape(image_size[0] * image_size[1], 1)\n",
    "print(original_img.shape, original_img.dtype, np.min(original_img), np.max(original_img))"
   ]
  },
  {
   "cell_type": "code",
   "execution_count": null,
   "metadata": {},
   "outputs": [],
   "source": [
    "# Reconstruct the image for all the PCs\n",
    "#print(dataset.shape)\n",
    "pcs = eigen_faces\n",
    "print(eigen_faces.shape)\n",
    "#print(pcs.shape)\n",
    "rec, mse = reconstruct_image(original_img, pcs)"
   ]
  },
  {
   "cell_type": "code",
   "execution_count": null,
   "metadata": {},
   "outputs": [],
   "source": [
    "print(mse)"
   ]
  },
  {
   "cell_type": "code",
   "execution_count": null,
   "metadata": {},
   "outputs": [],
   "source": [
    "# reconstruct for 189 PCs\n",
    "pcs = eigen_faces[:, :189]\n",
    "print(pcs.shape)\n",
    "rec2, mse2 = reconstruct_image(original_img, pcs)"
   ]
  },
  {
   "cell_type": "code",
   "execution_count": null,
   "metadata": {},
   "outputs": [],
   "source": [
    "print(mse2)"
   ]
  },
  {
   "cell_type": "code",
   "execution_count": null,
   "metadata": {},
   "outputs": [],
   "source": [
    "# reconstruct for all 190 pcs\n",
    "pcs = eigen_faces[:, :190]\n",
    "print(pcs.shape)\n",
    "rec3, mse3 = reconstruct_image(original_img, pcs)"
   ]
  },
  {
   "cell_type": "code",
   "execution_count": null,
   "metadata": {},
   "outputs": [],
   "source": [
    "print(mse3)"
   ]
  },
  {
   "cell_type": "code",
   "execution_count": null,
   "metadata": {},
   "outputs": [],
   "source": [
    "recs = [rec2, rec]"
   ]
  },
  {
   "cell_type": "code",
   "execution_count": null,
   "metadata": {
    "scrolled": false
   },
   "outputs": [],
   "source": [
    "# Plot the reconstructed images for 5 different number of PCs\n",
    "num_pcs = [189, 190]\n",
    "fig, axes = plt.subplots(nrows=2, ncols=2, figsize=(8, 8), sharex=\"all\", sharey=\"all\")\n",
    "for i in range(len(num_pcs)):\n",
    "    r = recs[i]\n",
    "    print(r.shape, r.dtype)\n",
    "    r = r.reshape(image_size[0], image_size[1])\n",
    "    \n",
    "    # display the neutral image\n",
    "    axes[i][0].imshow(original_img.reshape(image_size[0], image_size[1]), cmap=\"gray\")\n",
    "    axes[i][0].axis('off')\n",
    "    axes[i][0].set_title(\"Original Image\")\n",
    "    \n",
    "    # display the smiling image\n",
    "    axes[i][1].imshow(r, cmap=\"gray\")\n",
    "    axes[i][1].axis('off')\n",
    "    axes[i][1].set_title(\"Reconstructed Image using top {} eigen faces\".format(num_pcs[i]))\n",
    "    \n",
    "plt.tight_layout()\n",
    "fig.canvas.draw()"
   ]
  },
  {
   "cell_type": "code",
   "execution_count": null,
   "metadata": {},
   "outputs": [],
   "source": [
    "r = rec2\n",
    "print(r.shape, r.dtype, np.min(r), np.max(r))\n",
    "print(original_img.shape, original_img.dtype, np.min(original_img), np.max(original_img))"
   ]
  },
  {
   "cell_type": "markdown",
   "metadata": {},
   "source": [
    "TODO"
   ]
  },
  {
   "cell_type": "markdown",
   "metadata": {},
   "source": [
    "### Question f) Reconstruction of training set neutral image for different rotations"
   ]
  },
  {
   "cell_type": "code",
   "execution_count": null,
   "metadata": {},
   "outputs": [],
   "source": [
    "original_img = dataset[:, rand_ind]\n",
    "original_img = np.reshape(original_img, (image_size[0], image_size[1]))"
   ]
  },
  {
   "cell_type": "code",
   "execution_count": null,
   "metadata": {},
   "outputs": [],
   "source": [
    "mses = []\n",
    "rots = []\n",
    "recs = []\n",
    "\n",
    "pcs = eigen_faces[:, :189]\n",
    "\n",
    "# Reconstruct the image for all the PCs\n",
    "for j in range(361):\n",
    "    #print(dataset.shape)\n",
    "    rot_image = ndi.rotate(original_img, j, reshape=False)\n",
    "    rot_image = rot_image.reshape(image_size[0]*image_size[1], 1)\n",
    "    rots.append(rot_image)\n",
    "    #print(rot_image.shape, rot_image.dtype)\n",
    "    #print(pcs.shape)\n",
    "    rec, mse = reconstruct_image(rot_image, pcs)\n",
    "    recs.append(rec)\n",
    "    mses.append(mse)"
   ]
  },
  {
   "cell_type": "code",
   "execution_count": null,
   "metadata": {
    "scrolled": true
   },
   "outputs": [],
   "source": [
    "print(len(mses), min(mses), max(mses))"
   ]
  },
  {
   "cell_type": "code",
   "execution_count": null,
   "metadata": {
    "scrolled": true
   },
   "outputs": [],
   "source": [
    "print(mses)"
   ]
  },
  {
   "cell_type": "code",
   "execution_count": null,
   "metadata": {},
   "outputs": [],
   "source": [
    "# plot the singular values of the data matrix\n",
    "angles = [i for i in range(361)]\n",
    "fig, axes = plt.subplots(nrows=1, ncols=1, figsize=(7, 6))\n",
    "axes.plot(angles, mses)\n",
    "axes.set_xlabel(\"Angle of rotation in degrees\")\n",
    "axes.set_ylabel(\"MSE of Reconstruction\")\n",
    "axes.set_xlim(-1, 400)\n",
    "axes.set_ylim(0, )\n",
    "#axes.set_title(\"Number of Principal Components vs Mean Squared Error of Reconstruction\")\n",
    "fig.canvas.draw()"
   ]
  },
  {
   "cell_type": "code",
   "execution_count": null,
   "metadata": {
    "scrolled": false
   },
   "outputs": [],
   "source": [
    "# Plot the reconstructed images for 5 different number of PCs\n",
    "angles = [0, 30, 60, 90, 120, 180, 240, 270, 300, 360]\n",
    "fig, axes = plt.subplots(nrows=10, ncols=3, figsize=(12, 12), sharex=\"all\", sharey=\"all\")\n",
    "for i in range(len(angles)):\n",
    "    r = recs[angles[i]]\n",
    "    print(r.shape, r.dtype)\n",
    "    r = r.reshape(image_size[0], image_size[1])\n",
    "    \n",
    "    ro = rots[angles[i]]\n",
    "    print(ro.shape, ro.dtype)\n",
    "    ro = ro.reshape(image_size[0], image_size[1])\n",
    "    \n",
    "    # display the neutral image\n",
    "    axes[i][0].imshow(original_img.reshape(image_size[0], image_size[1]), cmap=\"gray\")\n",
    "    axes[i][0].axis('off')\n",
    "    axes[i][0].set_title(\"Original Face\")\n",
    "    \n",
    "    # display the rotated image\n",
    "    axes[i][1].imshow(ro, cmap=\"gray\")\n",
    "    axes[i][1].axis('off')\n",
    "    axes[i][1].set_title(\"Rotated Image Angle: {}\".format(angles[i]))\n",
    "    \n",
    "    # display the smiling image\n",
    "    axes[i][2].imshow(r, cmap=\"gray\")\n",
    "    axes[i][2].axis('off')\n",
    "    axes[i][2].set_title(\"Reconstructed Face with 189 PCs\".format(angles[i]))\n",
    "    \n",
    "plt.tight_layout()\n",
    "fig.canvas.draw()"
   ]
  },
  {
   "cell_type": "code",
   "execution_count": null,
   "metadata": {},
   "outputs": [],
   "source": [
    "mses = []\n",
    "rots = []\n",
    "recs = []\n",
    "\n",
    "pcs = eigen_faces[:, :190]\n",
    "\n",
    "# Reconstruct the image for all the PCs\n",
    "for j in range(361):\n",
    "    #print(dataset.shape)\n",
    "    rot_image = ndi.rotate(original_img, j, reshape=False)\n",
    "    rot_image = rot_image.reshape(image_size[0]*image_size[1], 1)\n",
    "    rots.append(rot_image)\n",
    "    #print(rot_image.shape, rot_image.dtype)\n",
    "    #print(pcs.shape)\n",
    "    rec, mse = reconstruct_image(rot_image, pcs)\n",
    "    recs.append(rec)\n",
    "    mses.append(mse)"
   ]
  },
  {
   "cell_type": "code",
   "execution_count": null,
   "metadata": {
    "scrolled": true
   },
   "outputs": [],
   "source": [
    "print(len(mses), min(mses), max(mses))"
   ]
  },
  {
   "cell_type": "code",
   "execution_count": null,
   "metadata": {
    "scrolled": false
   },
   "outputs": [],
   "source": [
    "print(mses)"
   ]
  },
  {
   "cell_type": "code",
   "execution_count": null,
   "metadata": {},
   "outputs": [],
   "source": [
    "# plot the singular values of the data matrix\n",
    "angles = [i for i in range(361)]\n",
    "fig, axes = plt.subplots(nrows=1, ncols=1, figsize=(7, 6))\n",
    "axes.plot(angles, mses)\n",
    "axes.set_xlabel(\"Angle of rotation in degrees\")\n",
    "axes.set_ylabel(\"MSE of Reconstruction\")\n",
    "axes.set_xlim(-5, 400)\n",
    "axes.set_ylim(0, )\n",
    "#axes.set_title(\"Number of Principal Components vs Mean Squared Error of Reconstruction\")\n",
    "fig.canvas.draw()"
   ]
  },
  {
   "cell_type": "code",
   "execution_count": null,
   "metadata": {
    "scrolled": false
   },
   "outputs": [],
   "source": [
    "# Plot the reconstructed images for 5 different number of PCs\n",
    "angles = [0, 30, 60, 90, 120, 180, 240, 270, 300, 360]\n",
    "fig, axes = plt.subplots(nrows=10, ncols=3, figsize=(12, 12), sharex=\"all\", sharey=\"all\")\n",
    "for i in range(len(angles)):\n",
    "    r = recs[angles[i]]\n",
    "    print(r.shape, r.dtype)\n",
    "    r = r.reshape(image_size[0], image_size[1])\n",
    "    \n",
    "    ro = rots[angles[i]]\n",
    "    print(ro.shape, ro.dtype)\n",
    "    ro = ro.reshape(image_size[0], image_size[1])\n",
    "    \n",
    "    # display the neutral image\n",
    "    axes[i][0].imshow(original_img.reshape(image_size[0], image_size[1]), cmap=\"gray\")\n",
    "    axes[i][0].axis('off')\n",
    "    axes[i][0].set_title(\"Original Face\")\n",
    "    \n",
    "    # display the rotated image\n",
    "    axes[i][1].imshow(ro, cmap=\"gray\")\n",
    "    axes[i][1].axis('off')\n",
    "    axes[i][1].set_title(\"Rotated Image Angle: {}\".format(angles[i]))\n",
    "    \n",
    "    # display the smiling image\n",
    "    axes[i][2].imshow(r, cmap=\"gray\")\n",
    "    axes[i][2].axis('off')\n",
    "    axes[i][2].set_title(\"Reconstructed Face with all PCs\".format(angles[i]))\n",
    "    \n",
    "plt.tight_layout()\n",
    "fig.canvas.draw()"
   ]
  },
  {
   "cell_type": "markdown",
   "metadata": {},
   "source": [
    "TODO"
   ]
  },
  {
   "cell_type": "markdown",
   "metadata": {},
   "source": [
    "TODO - Final answers to stuff, conclusions, math"
   ]
  },
  {
   "cell_type": "code",
   "execution_count": null,
   "metadata": {},
   "outputs": [],
   "source": []
  }
 ],
 "metadata": {
  "kernelspec": {
   "display_name": "Python 3",
   "language": "python",
   "name": "python3"
  },
  "language_info": {
   "codemirror_mode": {
    "name": "ipython",
    "version": 3
   },
   "file_extension": ".py",
   "mimetype": "text/x-python",
   "name": "python",
   "nbconvert_exporter": "python",
   "pygments_lexer": "ipython3",
   "version": "3.7.3"
  }
 },
 "nbformat": 4,
 "nbformat_minor": 2
}
