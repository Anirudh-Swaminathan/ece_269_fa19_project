{
 "cells": [
  {
   "cell_type": "markdown",
   "metadata": {},
   "source": [
    "# ECE 269 - Linear Algebra - Fall 2019 - Final Project - EigenFaces"
   ]
  },
  {
   "cell_type": "markdown",
   "metadata": {},
   "source": [
    "## EigenFaces project worked on by:-\n",
    "## Name :- Anirudh Swaminathan\n",
    "## PID :- A53316083\n",
    "## Email ID :- aswamina@ucsd.edu"
   ]
  },
  {
   "cell_type": "code",
   "execution_count": null,
   "metadata": {},
   "outputs": [],
   "source": [
    "%matplotlib inline\n",
    "\n",
    "# for working with images\n",
    "import matplotlib.pyplot as plt\n",
    "import matplotlib.image as mpimg\n",
    "\n",
    "# randomness\n",
    "import random\n",
    "\n",
    "# matrices\n",
    "import numpy as np\n",
    "\n",
    "# eigen value computation\n",
    "from scipy.linalg import eigh"
   ]
  },
  {
   "cell_type": "code",
   "execution_count": null,
   "metadata": {},
   "outputs": [],
   "source": [
    "# dataset directory specified here\n",
    "data_dir = \"../datasets/\""
   ]
  },
  {
   "cell_type": "code",
   "execution_count": null,
   "metadata": {},
   "outputs": [],
   "source": [
    "# data stuff here\n",
    "neutral_imgs = []\n",
    "smiling_imgs = []\n",
    "mean_img = None\n",
    "dataset = []\n",
    "image_size = None\n",
    "eigen_faces = None"
   ]
  },
  {
   "cell_type": "markdown",
   "metadata": {},
   "source": [
    "### Load the data"
   ]
  },
  {
   "cell_type": "code",
   "execution_count": null,
   "metadata": {},
   "outputs": [],
   "source": [
    "for i in range(200):\n",
    "    nimg = mpimg.imread(data_dir + str(i + 1) + \"a.jpg\")\n",
    "    simg = mpimg.imread(data_dir + str(i + 1) + \"b.jpg\")\n",
    "    neutral_imgs.append(nimg)\n",
    "    smiling_imgs.append(simg)\n",
    "dataset = neutral_imgs[:190]\n",
    "dataset = np.array(dataset)\n",
    "image_size = (dataset.shape[1], dataset.shape[2])\n",
    "dataset = dataset.reshape(dataset.shape[0], dataset.shape[1] * dataset.shape[2])\n",
    "# 31266 * 190 - dataset shape\n",
    "dataset = np.transpose(dataset)"
   ]
  },
  {
   "cell_type": "markdown",
   "metadata": {},
   "source": [
    "### Display 5 random neutral and smiling images to verify if the data loading was correct"
   ]
  },
  {
   "cell_type": "code",
   "execution_count": null,
   "metadata": {},
   "outputs": [],
   "source": [
    "fig, axes = plt.subplots(nrows=5, ncols=2, figsize=(8, 8), sharex=\"all\", sharey=\"all\")\n",
    "for i in range(5):\n",
    "    j = random.randint(0, 199)\n",
    "    n = neutral_imgs[j]\n",
    "    s = smiling_imgs[j]\n",
    "    \n",
    "    # display the neutral image\n",
    "    axes[i][0].imshow(n, cmap=\"gray\")\n",
    "    axes[i][0].axis('off')\n",
    "    axes[i][0].set_title(\"Neutral Face\")\n",
    "    \n",
    "    # display the smiling image\n",
    "    axes[i][1].imshow(s, cmap=\"gray\")\n",
    "    axes[i][1].axis('off')\n",
    "    axes[i][1].set_title(\"Smiling Face\")\n",
    "    \n",
    "plt.tight_layout()\n",
    "fig.canvas.draw()"
   ]
  },
  {
   "cell_type": "markdown",
   "metadata": {},
   "source": [
    "### Question a) - Computing the PCs using 1st individual's neutral expressions and plotting the singular values of the data matrix"
   ]
  },
  {
   "cell_type": "markdown",
   "metadata": {},
   "source": [
    "#### Compute Mean Face"
   ]
  },
  {
   "cell_type": "code",
   "execution_count": null,
   "metadata": {},
   "outputs": [],
   "source": [
    "# calculate the mean face for the dataset\n",
    "num_imgs = dataset.shape[1]\n",
    "# print(self.dataset.shape)\n",
    "mean_img = np.matmul(dataset, np.ones((num_imgs, 1))) / num_imgs\n",
    "# 31266 * 1 - mean_img\n",
    "mean_img = mean_img\n",
    "print(mean_img.shape)"
   ]
  },
  {
   "cell_type": "code",
   "execution_count": null,
   "metadata": {},
   "outputs": [],
   "source": [
    "# plot the mean face of the neutral expressions\n",
    "plt_mean_img = mean_img.reshape(image_size[0], image_size[1])\n",
    "fig, axes = plt.subplots(nrows=1, ncols=1, figsize=(7, 6))\n",
    "axes.imshow(plt_mean_img, cmap=\"gray\")\n",
    "axes.axis('off')\n",
    "axes.set_title(\"Mean Face of 190 Neutral Faces\")\n",
    "fig.canvas.draw()"
   ]
  },
  {
   "cell_type": "markdown",
   "metadata": {},
   "source": [
    "#### Compute the eigen values and the corresponding eigen faces"
   ]
  },
  {
   "cell_type": "code",
   "execution_count": null,
   "metadata": {},
   "outputs": [],
   "source": [
    "# 31266 * 180\n",
    "mean_offset = dataset - mean_img\n",
    "\n",
    "# 180*180\n",
    "mod_cov = np.matmul(np.transpose(mean_offset), mean_offset)\n",
    "print(mod_cov.shape)\n",
    "\n",
    "# check if this is a symmetric matrix\n",
    "print(np.allclose(mod_cov, np.transpose(mod_cov)))"
   ]
  },
  {
   "cell_type": "code",
   "execution_count": null,
   "metadata": {},
   "outputs": [],
   "source": [
    "# compute the eigen values and the corresponding eigenvectors in ascending order\n",
    "# 190 eigen values\n",
    "# 190 * 190 eigen vectors\n",
    "# ith column - corresponding to the ith eigen vector\n",
    "eig_vals, mod_eig_vecs = eigh(mod_cov)\n",
    "print(eig_vals.shape, mod_eig_vecs.shape)\n",
    "\n",
    "# 31266 * 190 - eigen vectors of the original data\n",
    "eig_vecs = np.matmul(mean_offset, mod_eig_vecs)\n",
    "\n",
    "# normalize the eigen vectors now\n",
    "# 31266 * 190 normalized eigen vectors\n",
    "norm_cnst = np.sum(np.square(eig_vecs), 0)\n",
    "eigen_faces = np.divide(eig_vecs, norm_cnst)\n",
    "print(eigen_faces.shape)"
   ]
  },
  {
   "cell_type": "markdown",
   "metadata": {},
   "source": [
    "#### Plot the singular values of the data matrix"
   ]
  },
  {
   "cell_type": "markdown",
   "metadata": {},
   "source": [
    "Since the matrix $A^TA$ is symmetric, it's singluar values are also it's eigen values, and they are real."
   ]
  },
  {
   "cell_type": "code",
   "execution_count": null,
   "metadata": {},
   "outputs": [],
   "source": [
    "# plot the singular values of the data matrix\n",
    "indices = [i for i in range(190)]\n",
    "fig, axes = plt.subplots(nrows=1, ncols=1, figsize=(7, 6))\n",
    "axes.plot(indices, eig_vals)\n",
    "axes.set_xlabel(\"Indices\")\n",
    "axes.set_ylabel(\"Eigen Values (10^9)\")\n",
    "axes.set_xlim(0, 190)\n",
    "axes.set_ylim(0, 2*1e9)\n",
    "axes.set_title(\"Singular Values of the Data Matrix\")\n",
    "fig.canvas.draw()"
   ]
  },
  {
   "cell_type": "markdown",
   "metadata": {},
   "source": [
    "For choosing the eigen values, we take the largest eigen values as they indicate the maximum variance between the different features. We can choose the number of PCs as the one that gives >95% variance between the features."
   ]
  },
  {
   "cell_type": "code",
   "execution_count": null,
   "metadata": {},
   "outputs": [],
   "source": [
    "tot = np.sum(eig_vals)\n",
    "su = 0\n",
    "ans = -1\n",
    "for j in range(189, -1, -1):\n",
    "    su += eig_vals[j]\n",
    "    if su/tot>0.95:\n",
    "        ans = 190-j\n",
    "        print(\"The largest {} eigen vectors encode >95% variability of the dataset\".format(ans))\n",
    "        break"
   ]
  },
  {
   "cell_type": "markdown",
   "metadata": {},
   "source": [
    "Hence, we can choose $96$ largest eigen values and their corresponding eigen vectors to represent greater than $95%$ variability of the given dataset of faces."
   ]
  },
  {
   "cell_type": "code",
   "execution_count": null,
   "metadata": {},
   "outputs": [],
   "source": []
  }
 ],
 "metadata": {
  "kernelspec": {
   "display_name": "Python 3",
   "language": "python",
   "name": "python3"
  },
  "language_info": {
   "codemirror_mode": {
    "name": "ipython",
    "version": 3
   },
   "file_extension": ".py",
   "mimetype": "text/x-python",
   "name": "python",
   "nbconvert_exporter": "python",
   "pygments_lexer": "ipython3",
   "version": "3.5.2"
  }
 },
 "nbformat": 4,
 "nbformat_minor": 2
}
